{
 "cells": [
  {
   "cell_type": "code",
   "execution_count": 1,
   "metadata": {},
   "outputs": [
    {
     "name": "stderr",
     "output_type": "stream",
     "text": [
      "\n",
      "Bad key \"text.kerning_factor\" on line 4 in\n",
      "C:\\Users\\Dan\\Anaconda3\\lib\\site-packages\\matplotlib\\mpl-data\\stylelib\\_classic_test_patch.mplstyle.\n",
      "You probably need to get an updated matplotlibrc file from\n",
      "https://github.com/matplotlib/matplotlib/blob/v3.1.3/matplotlibrc.template\n",
      "or from the matplotlib source distribution\n"
     ]
    }
   ],
   "source": [
    "\n",
    "import pandas as pd\n",
    "import numpy as np\n",
    "import matplotlib.pyplot as plt\n",
    "import seaborn as sns\n",
    "\n",
    "#models for scikit learn\n",
    "from sklearn.linear_model import Ridge\n",
    "from sklearn.ensemble import RandomForestRegressor\n",
    "%matplotlib inline\n",
    "\n",
    "\n",
    "\n",
    "#models eval\n",
    "from sklearn.model_selection import train_test_split, cross_val_score\n",
    "from sklearn.model_selection import RandomizedSearchCV, GridSearchCV\n",
    "from sklearn.metrics import confusion_matrix, classification_report\n",
    "from sklearn.metrics import accuracy_score, precision_score, recall_score, f1_score,r2_score,mean_absolute_error,mean_squared_error\n",
    "\n",
    "from sklearn.metrics import plot_roc_curve\n",
    "\n",
    "file_2020= (r'C:\\Users\\Dan\\Desktop\\Garmin\\Running 2020.csv')\n",
    "df_2020= pd.read_csv(file_2020, parse_dates=['Date'])"
   ]
  },
  {
   "cell_type": "code",
   "execution_count": 2,
   "metadata": {},
   "outputs": [
    {
     "data": {
      "text/html": [
       "<div>\n",
       "<style scoped>\n",
       "    .dataframe tbody tr th:only-of-type {\n",
       "        vertical-align: middle;\n",
       "    }\n",
       "\n",
       "    .dataframe tbody tr th {\n",
       "        vertical-align: top;\n",
       "    }\n",
       "\n",
       "    .dataframe thead th {\n",
       "        text-align: right;\n",
       "    }\n",
       "</style>\n",
       "<table border=\"1\" class=\"dataframe\">\n",
       "  <thead>\n",
       "    <tr style=\"text-align: right;\">\n",
       "      <th></th>\n",
       "      <th>Distance</th>\n",
       "      <th>Avg HR</th>\n",
       "      <th>Max HR</th>\n",
       "      <th>Avg Run Cadence</th>\n",
       "      <th>Max Run Cadence</th>\n",
       "      <th>Elev Loss</th>\n",
       "      <th>Avg Stride Length</th>\n",
       "      <th>Avg Vertical Ratio</th>\n",
       "      <th>Avg Vertical Oscillation</th>\n",
       "      <th>Training Stress Score®</th>\n",
       "      <th>Grit</th>\n",
       "      <th>Flow</th>\n",
       "      <th>Min Temp</th>\n",
       "      <th>Number of Laps</th>\n",
       "      <th>Max Temp</th>\n",
       "    </tr>\n",
       "  </thead>\n",
       "  <tbody>\n",
       "    <tr>\n",
       "      <th>count</th>\n",
       "      <td>172.000000</td>\n",
       "      <td>172.000000</td>\n",
       "      <td>172.000000</td>\n",
       "      <td>172.000000</td>\n",
       "      <td>172.000000</td>\n",
       "      <td>172.000000</td>\n",
       "      <td>172.000000</td>\n",
       "      <td>172.0</td>\n",
       "      <td>172.0</td>\n",
       "      <td>172.0</td>\n",
       "      <td>172.0</td>\n",
       "      <td>172.0</td>\n",
       "      <td>172.0</td>\n",
       "      <td>172.000000</td>\n",
       "      <td>172.0</td>\n",
       "    </tr>\n",
       "    <tr>\n",
       "      <th>mean</th>\n",
       "      <td>4.938023</td>\n",
       "      <td>158.226744</td>\n",
       "      <td>175.279070</td>\n",
       "      <td>180.558140</td>\n",
       "      <td>195.232558</td>\n",
       "      <td>102.854651</td>\n",
       "      <td>1.200814</td>\n",
       "      <td>0.0</td>\n",
       "      <td>0.0</td>\n",
       "      <td>0.0</td>\n",
       "      <td>0.0</td>\n",
       "      <td>0.0</td>\n",
       "      <td>0.0</td>\n",
       "      <td>5.703488</td>\n",
       "      <td>0.0</td>\n",
       "    </tr>\n",
       "    <tr>\n",
       "      <th>std</th>\n",
       "      <td>1.709602</td>\n",
       "      <td>11.223971</td>\n",
       "      <td>10.182718</td>\n",
       "      <td>3.162665</td>\n",
       "      <td>11.906728</td>\n",
       "      <td>42.201367</td>\n",
       "      <td>0.039075</td>\n",
       "      <td>0.0</td>\n",
       "      <td>0.0</td>\n",
       "      <td>0.0</td>\n",
       "      <td>0.0</td>\n",
       "      <td>0.0</td>\n",
       "      <td>0.0</td>\n",
       "      <td>1.756988</td>\n",
       "      <td>0.0</td>\n",
       "    </tr>\n",
       "    <tr>\n",
       "      <th>min</th>\n",
       "      <td>0.350000</td>\n",
       "      <td>131.000000</td>\n",
       "      <td>140.000000</td>\n",
       "      <td>173.000000</td>\n",
       "      <td>180.000000</td>\n",
       "      <td>16.000000</td>\n",
       "      <td>1.070000</td>\n",
       "      <td>0.0</td>\n",
       "      <td>0.0</td>\n",
       "      <td>0.0</td>\n",
       "      <td>0.0</td>\n",
       "      <td>0.0</td>\n",
       "      <td>0.0</td>\n",
       "      <td>1.000000</td>\n",
       "      <td>0.0</td>\n",
       "    </tr>\n",
       "    <tr>\n",
       "      <th>25%</th>\n",
       "      <td>4.000000</td>\n",
       "      <td>151.000000</td>\n",
       "      <td>168.000000</td>\n",
       "      <td>178.000000</td>\n",
       "      <td>188.000000</td>\n",
       "      <td>72.000000</td>\n",
       "      <td>1.180000</td>\n",
       "      <td>0.0</td>\n",
       "      <td>0.0</td>\n",
       "      <td>0.0</td>\n",
       "      <td>0.0</td>\n",
       "      <td>0.0</td>\n",
       "      <td>0.0</td>\n",
       "      <td>5.000000</td>\n",
       "      <td>0.0</td>\n",
       "    </tr>\n",
       "    <tr>\n",
       "      <th>50%</th>\n",
       "      <td>5.010000</td>\n",
       "      <td>155.500000</td>\n",
       "      <td>174.000000</td>\n",
       "      <td>181.000000</td>\n",
       "      <td>192.500000</td>\n",
       "      <td>98.000000</td>\n",
       "      <td>1.200000</td>\n",
       "      <td>0.0</td>\n",
       "      <td>0.0</td>\n",
       "      <td>0.0</td>\n",
       "      <td>0.0</td>\n",
       "      <td>0.0</td>\n",
       "      <td>0.0</td>\n",
       "      <td>6.000000</td>\n",
       "      <td>0.0</td>\n",
       "    </tr>\n",
       "    <tr>\n",
       "      <th>75%</th>\n",
       "      <td>6.010000</td>\n",
       "      <td>167.000000</td>\n",
       "      <td>184.000000</td>\n",
       "      <td>183.000000</td>\n",
       "      <td>196.000000</td>\n",
       "      <td>128.000000</td>\n",
       "      <td>1.230000</td>\n",
       "      <td>0.0</td>\n",
       "      <td>0.0</td>\n",
       "      <td>0.0</td>\n",
       "      <td>0.0</td>\n",
       "      <td>0.0</td>\n",
       "      <td>0.0</td>\n",
       "      <td>7.000000</td>\n",
       "      <td>0.0</td>\n",
       "    </tr>\n",
       "    <tr>\n",
       "      <th>max</th>\n",
       "      <td>12.000000</td>\n",
       "      <td>184.000000</td>\n",
       "      <td>197.000000</td>\n",
       "      <td>190.000000</td>\n",
       "      <td>248.000000</td>\n",
       "      <td>256.000000</td>\n",
       "      <td>1.330000</td>\n",
       "      <td>0.0</td>\n",
       "      <td>0.0</td>\n",
       "      <td>0.0</td>\n",
       "      <td>0.0</td>\n",
       "      <td>0.0</td>\n",
       "      <td>0.0</td>\n",
       "      <td>13.000000</td>\n",
       "      <td>0.0</td>\n",
       "    </tr>\n",
       "  </tbody>\n",
       "</table>\n",
       "</div>"
      ],
      "text/plain": [
       "         Distance      Avg HR      Max HR  Avg Run Cadence  Max Run Cadence  \\\n",
       "count  172.000000  172.000000  172.000000       172.000000       172.000000   \n",
       "mean     4.938023  158.226744  175.279070       180.558140       195.232558   \n",
       "std      1.709602   11.223971   10.182718         3.162665        11.906728   \n",
       "min      0.350000  131.000000  140.000000       173.000000       180.000000   \n",
       "25%      4.000000  151.000000  168.000000       178.000000       188.000000   \n",
       "50%      5.010000  155.500000  174.000000       181.000000       192.500000   \n",
       "75%      6.010000  167.000000  184.000000       183.000000       196.000000   \n",
       "max     12.000000  184.000000  197.000000       190.000000       248.000000   \n",
       "\n",
       "        Elev Loss  Avg Stride Length  Avg Vertical Ratio  \\\n",
       "count  172.000000         172.000000               172.0   \n",
       "mean   102.854651           1.200814                 0.0   \n",
       "std     42.201367           0.039075                 0.0   \n",
       "min     16.000000           1.070000                 0.0   \n",
       "25%     72.000000           1.180000                 0.0   \n",
       "50%     98.000000           1.200000                 0.0   \n",
       "75%    128.000000           1.230000                 0.0   \n",
       "max    256.000000           1.330000                 0.0   \n",
       "\n",
       "       Avg Vertical Oscillation  Training Stress Score®   Grit   Flow  \\\n",
       "count                     172.0                   172.0  172.0  172.0   \n",
       "mean                        0.0                     0.0    0.0    0.0   \n",
       "std                         0.0                     0.0    0.0    0.0   \n",
       "min                         0.0                     0.0    0.0    0.0   \n",
       "25%                         0.0                     0.0    0.0    0.0   \n",
       "50%                         0.0                     0.0    0.0    0.0   \n",
       "75%                         0.0                     0.0    0.0    0.0   \n",
       "max                         0.0                     0.0    0.0    0.0   \n",
       "\n",
       "       Min Temp  Number of Laps  Max Temp  \n",
       "count     172.0      172.000000     172.0  \n",
       "mean        0.0        5.703488       0.0  \n",
       "std         0.0        1.756988       0.0  \n",
       "min         0.0        1.000000       0.0  \n",
       "25%         0.0        5.000000       0.0  \n",
       "50%         0.0        6.000000       0.0  \n",
       "75%         0.0        7.000000       0.0  \n",
       "max         0.0       13.000000       0.0  "
      ]
     },
     "execution_count": 2,
     "metadata": {},
     "output_type": "execute_result"
    }
   ],
   "source": [
    "df_2020.describe()"
   ]
  },
  {
   "cell_type": "code",
   "execution_count": 3,
   "metadata": {},
   "outputs": [
    {
     "name": "stdout",
     "output_type": "stream",
     "text": [
      "<class 'pandas.core.frame.DataFrame'>\n",
      "RangeIndex: 172 entries, 0 to 171\n",
      "Data columns (total 29 columns):\n",
      " #   Column                    Non-Null Count  Dtype         \n",
      "---  ------                    --------------  -----         \n",
      " 0   Activity Type             172 non-null    object        \n",
      " 1   Date                      172 non-null    datetime64[ns]\n",
      " 2   Favorite                  172 non-null    bool          \n",
      " 3   Title                     172 non-null    object        \n",
      " 4   Distance                  172 non-null    float64       \n",
      " 5   Calories                  172 non-null    object        \n",
      " 6   Time                      172 non-null    object        \n",
      " 7   Avg HR                    172 non-null    int64         \n",
      " 8   Max HR                    172 non-null    int64         \n",
      " 9   Avg Run Cadence           172 non-null    int64         \n",
      " 10  Max Run Cadence           172 non-null    int64         \n",
      " 11  Avg Pace                  172 non-null    object        \n",
      " 12  Best Pace                 172 non-null    object        \n",
      " 13  Elev Gain                 172 non-null    object        \n",
      " 14  Elev Loss                 172 non-null    int64         \n",
      " 15  Avg Stride Length         172 non-null    float64       \n",
      " 16  Avg Vertical Ratio        172 non-null    int64         \n",
      " 17  Avg Vertical Oscillation  172 non-null    int64         \n",
      " 18  Training Stress Score®    172 non-null    int64         \n",
      " 19  Grit                      172 non-null    int64         \n",
      " 20  Flow                      172 non-null    int64         \n",
      " 21  Climb Time                172 non-null    object        \n",
      " 22  Bottom Time               172 non-null    object        \n",
      " 23  Min Temp                  172 non-null    int64         \n",
      " 24  Surface Interval          172 non-null    object        \n",
      " 25  Decompression             172 non-null    object        \n",
      " 26  Best Lap Time             172 non-null    object        \n",
      " 27  Number of Laps            172 non-null    int64         \n",
      " 28  Max Temp                  172 non-null    int64         \n",
      "dtypes: bool(1), datetime64[ns](1), float64(2), int64(13), object(12)\n",
      "memory usage: 37.9+ KB\n"
     ]
    }
   ],
   "source": [
    "df_2020.info()"
   ]
  },
  {
   "cell_type": "code",
   "execution_count": 4,
   "metadata": {},
   "outputs": [
    {
     "data": {
      "text/plain": [
       "Activity Type               0\n",
       "Date                        0\n",
       "Favorite                    0\n",
       "Title                       0\n",
       "Distance                    0\n",
       "Calories                    0\n",
       "Time                        0\n",
       "Avg HR                      0\n",
       "Max HR                      0\n",
       "Avg Run Cadence             0\n",
       "Max Run Cadence             0\n",
       "Avg Pace                    0\n",
       "Best Pace                   0\n",
       "Elev Gain                   0\n",
       "Elev Loss                   0\n",
       "Avg Stride Length           0\n",
       "Avg Vertical Ratio          0\n",
       "Avg Vertical Oscillation    0\n",
       "Training Stress Score®      0\n",
       "Grit                        0\n",
       "Flow                        0\n",
       "Climb Time                  0\n",
       "Bottom Time                 0\n",
       "Min Temp                    0\n",
       "Surface Interval            0\n",
       "Decompression               0\n",
       "Best Lap Time               0\n",
       "Number of Laps              0\n",
       "Max Temp                    0\n",
       "dtype: int64"
      ]
     },
     "execution_count": 4,
     "metadata": {},
     "output_type": "execute_result"
    }
   ],
   "source": [
    "df_2020.isnull().sum()"
   ]
  },
  {
   "cell_type": "code",
   "execution_count": 5,
   "metadata": {},
   "outputs": [
    {
     "data": {
      "image/png": "[encoded data removed]",
      "text/plain": [
       "<Figure size 432x288 with 1 Axes>"
      ]
     },
     "metadata": {
      "needs_background": "light"
     },
     "output_type": "display_data"
    }
   ],
   "source": [
    "sns.heatmap(df_2020.isnull(),yticklabels=False,cbar=False);"
   ]
  },
  {
   "cell_type": "code",
   "execution_count": 6,
   "metadata": {},
   "outputs": [
    {
     "name": "stdout",
     "output_type": "stream",
     "text": [
      "total milage: 849.3399999999999\n"
     ]
    }
   ],
   "source": [
    "total_milage=df_2020['Distance'].values.sum()\n",
    "print('total milage:',total_milage)"
   ]
  },
  {
   "cell_type": "code",
   "execution_count": 7,
   "metadata": {},
   "outputs": [
    {
     "data": {
      "image/png": "[encoded data removed]",
      "text/plain": [
       "<Figure size 720x432 with 1 Axes>"
      ]
     },
     "metadata": {
      "needs_background": "light"
     },
     "output_type": "display_data"
    }
   ],
   "source": [
    "\n",
    "plt.figure(figsize=(10,6))\n",
    "\n",
    "\n",
    "plt.scatter(df_2020['Avg HR'],\n",
    "            df_2020['Distance'], \n",
    "            c=\"blue\") \n",
    "\n",
    "\n",
    "\n",
    "plt.title(\"Distance as function of Age and Max Heart Rate\")\n",
    "plt.xlabel(\"avg hr\")\n",
    "plt.xticks(np.arange(110,225,step=5))\n",
    "\n",
    "\n",
    "\n",
    "plt.ylabel(\"distance\");\n"
   ]
  },
  {
   "cell_type": "code",
   "execution_count": 8,
   "metadata": {
    "scrolled": false
   },
   "outputs": [
    {
     "data": {
      "image/png": "[encoded data removed]",
      "text/plain": [
       "<Figure size 720x432 with 1 Axes>"
      ]
     },
     "metadata": {
      "needs_background": "light"
     },
     "output_type": "display_data"
    }
   ],
   "source": [
    "plt.figure(figsize=(10,6))\n",
    "plt.scatter(df_2020['Max HR'],\n",
    "            df_2020['Distance'], \n",
    "            c=\"green\") \n",
    "\n",
    "plt.title(\"Distance as function of Age and Max Heart Rate\")\n",
    "plt.xlabel(\"Max hr\")\n",
    "plt.xticks(np.arange(130,225,step=5))\n",
    "\n",
    "\n",
    "\n",
    "plt.ylabel(\"distance\");"
   ]
  },
  {
   "cell_type": "code",
   "execution_count": 9,
   "metadata": {},
   "outputs": [
    {
     "data": {
      "image/png": "[encoded data removed]",
      "text/plain": [
       "<Figure size 720x432 with 1 Axes>"
      ]
     },
     "metadata": {
      "needs_background": "light"
     },
     "output_type": "display_data"
    }
   ],
   "source": [
    "plt.figure(figsize=(10,6))\n",
    "plt.scatter(df_2020['Avg Stride Length'],\n",
    "            df_2020['Distance'], \n",
    "            c=\"salmon\") \n",
    "\n",
    "plt.title(\"Distance as function of Age and Max Heart Rate\")\n",
    "plt.xlabel(\"stride length\")\n",
    "plt.xticks(np.arange(0,2,step=.1))\n",
    "\n",
    "\n",
    "\n",
    "plt.ylabel(\"distance\");"
   ]
  },
  {
   "cell_type": "code",
   "execution_count": 10,
   "metadata": {},
   "outputs": [
    {
     "ename": "NameError",
     "evalue": "name 'df' is not defined",
     "output_type": "error",
     "traceback": [
      "\u001b[1;31m---------------------------------------------------------------------------\u001b[0m",
      "\u001b[1;31mNameError\u001b[0m                                 Traceback (most recent call last)",
      "\u001b[1;32m<ipython-input-10-edc928221e96>\u001b[0m in \u001b[0;36m<module>\u001b[1;34m\u001b[0m\n\u001b[1;32m----> 1\u001b[1;33m \u001b[0mdf\u001b[0m\u001b[1;33m.\u001b[0m\u001b[0mDistance\u001b[0m\u001b[1;33m.\u001b[0m\u001b[0mplot\u001b[0m\u001b[1;33m.\u001b[0m\u001b[0mhist\u001b[0m\u001b[1;33m(\u001b[0m\u001b[0mbins\u001b[0m\u001b[1;33m=\u001b[0m\u001b[1;36m10\u001b[0m\u001b[1;33m,\u001b[0m\u001b[0mcolor\u001b[0m\u001b[1;33m=\u001b[0m\u001b[1;34m'navy'\u001b[0m\u001b[1;33m)\u001b[0m\u001b[1;33m;\u001b[0m\u001b[1;33m\u001b[0m\u001b[1;33m\u001b[0m\u001b[0m\n\u001b[0m",
      "\u001b[1;31mNameError\u001b[0m: name 'df' is not defined"
     ]
    }
   ],
   "source": [
    "df.Distance.plot.hist(bins=10,color='navy');"
   ]
  },
  {
   "cell_type": "code",
   "execution_count": 11,
   "metadata": {
    "scrolled": false
   },
   "outputs": [
    {
     "data": {
      "image/png": "[encoded data removed]",
      "text/plain": [
       "<Figure size 1080x720 with 2 Axes>"
      ]
     },
     "metadata": {
      "needs_background": "light"
     },
     "output_type": "display_data"
    }
   ],
   "source": [
    "corr_matrix=df_2020.corr()\n",
    "fig,ax = plt.subplots(figsize=(15,10))\n",
    "ax = sns.heatmap(corr_matrix,\n",
    "                annot=True,\n",
    "                linewidths=0.5,\n",
    "                fmt='.2f',\n",
    "                cmap='YlGnBu');"
   ]
  },
  {
   "cell_type": "code",
   "execution_count": 12,
   "metadata": {},
   "outputs": [
    {
     "data": {
      "text/html": [
       "<div>\n",
       "<style scoped>\n",
       "    .dataframe tbody tr th:only-of-type {\n",
       "        vertical-align: middle;\n",
       "    }\n",
       "\n",
       "    .dataframe tbody tr th {\n",
       "        vertical-align: top;\n",
       "    }\n",
       "\n",
       "    .dataframe thead th {\n",
       "        text-align: right;\n",
       "    }\n",
       "</style>\n",
       "<table border=\"1\" class=\"dataframe\">\n",
       "  <thead>\n",
       "    <tr style=\"text-align: right;\">\n",
       "      <th></th>\n",
       "      <th>Activity Type</th>\n",
       "      <th>Date</th>\n",
       "      <th>Favorite</th>\n",
       "      <th>Title</th>\n",
       "      <th>Distance</th>\n",
       "      <th>Calories</th>\n",
       "      <th>Time</th>\n",
       "      <th>Avg HR</th>\n",
       "      <th>Max HR</th>\n",
       "      <th>Avg Run Cadence</th>\n",
       "      <th>...</th>\n",
       "      <th>Grit</th>\n",
       "      <th>Flow</th>\n",
       "      <th>Climb Time</th>\n",
       "      <th>Bottom Time</th>\n",
       "      <th>Min Temp</th>\n",
       "      <th>Surface Interval</th>\n",
       "      <th>Decompression</th>\n",
       "      <th>Best Lap Time</th>\n",
       "      <th>Number of Laps</th>\n",
       "      <th>Max Temp</th>\n",
       "    </tr>\n",
       "  </thead>\n",
       "  <tbody>\n",
       "    <tr>\n",
       "      <th>0</th>\n",
       "      <td>Running</td>\n",
       "      <td>2020-11-25 17:56:00</td>\n",
       "      <td>False</td>\n",
       "      <td>Boston Running</td>\n",
       "      <td>6.21</td>\n",
       "      <td>726</td>\n",
       "      <td>0:45:21</td>\n",
       "      <td>178</td>\n",
       "      <td>187</td>\n",
       "      <td>179</td>\n",
       "      <td>...</td>\n",
       "      <td>0</td>\n",
       "      <td>0</td>\n",
       "      <td>45:21:00</td>\n",
       "      <td>0:00</td>\n",
       "      <td>0</td>\n",
       "      <td>0:00</td>\n",
       "      <td>No</td>\n",
       "      <td>01:32.1</td>\n",
       "      <td>7</td>\n",
       "      <td>0</td>\n",
       "    </tr>\n",
       "    <tr>\n",
       "      <th>1</th>\n",
       "      <td>Running</td>\n",
       "      <td>2020-11-24 14:48:00</td>\n",
       "      <td>False</td>\n",
       "      <td>Boston Running</td>\n",
       "      <td>5.17</td>\n",
       "      <td>593</td>\n",
       "      <td>0:36:17</td>\n",
       "      <td>179</td>\n",
       "      <td>191</td>\n",
       "      <td>180</td>\n",
       "      <td>...</td>\n",
       "      <td>0</td>\n",
       "      <td>0</td>\n",
       "      <td>36:17:00</td>\n",
       "      <td>0:00</td>\n",
       "      <td>0</td>\n",
       "      <td>0:00</td>\n",
       "      <td>No</td>\n",
       "      <td>01:08.0</td>\n",
       "      <td>6</td>\n",
       "      <td>0</td>\n",
       "    </tr>\n",
       "    <tr>\n",
       "      <th>2</th>\n",
       "      <td>Running</td>\n",
       "      <td>2020-11-21 15:31:00</td>\n",
       "      <td>False</td>\n",
       "      <td>Boston Running</td>\n",
       "      <td>6.21</td>\n",
       "      <td>697</td>\n",
       "      <td>0:44:44</td>\n",
       "      <td>175</td>\n",
       "      <td>185</td>\n",
       "      <td>180</td>\n",
       "      <td>...</td>\n",
       "      <td>0</td>\n",
       "      <td>0</td>\n",
       "      <td>44:44:00</td>\n",
       "      <td>0:00</td>\n",
       "      <td>0</td>\n",
       "      <td>0:00</td>\n",
       "      <td>No</td>\n",
       "      <td>01:29.4</td>\n",
       "      <td>7</td>\n",
       "      <td>0</td>\n",
       "    </tr>\n",
       "    <tr>\n",
       "      <th>3</th>\n",
       "      <td>Running</td>\n",
       "      <td>2020-11-20 17:10:00</td>\n",
       "      <td>False</td>\n",
       "      <td>Boston Running</td>\n",
       "      <td>7.24</td>\n",
       "      <td>867</td>\n",
       "      <td>0:53:02</td>\n",
       "      <td>180</td>\n",
       "      <td>191</td>\n",
       "      <td>177</td>\n",
       "      <td>...</td>\n",
       "      <td>0</td>\n",
       "      <td>0</td>\n",
       "      <td>53:02:00</td>\n",
       "      <td>0:00</td>\n",
       "      <td>0</td>\n",
       "      <td>0:00</td>\n",
       "      <td>No</td>\n",
       "      <td>01:48.9</td>\n",
       "      <td>8</td>\n",
       "      <td>0</td>\n",
       "    </tr>\n",
       "    <tr>\n",
       "      <th>4</th>\n",
       "      <td>Running</td>\n",
       "      <td>2020-11-18 17:08:00</td>\n",
       "      <td>False</td>\n",
       "      <td>Boston Running</td>\n",
       "      <td>6.10</td>\n",
       "      <td>743</td>\n",
       "      <td>0:46:00</td>\n",
       "      <td>175</td>\n",
       "      <td>190</td>\n",
       "      <td>179</td>\n",
       "      <td>...</td>\n",
       "      <td>0</td>\n",
       "      <td>0</td>\n",
       "      <td>46:00:00</td>\n",
       "      <td>0:00</td>\n",
       "      <td>0</td>\n",
       "      <td>0:00</td>\n",
       "      <td>No</td>\n",
       "      <td>00:48.2</td>\n",
       "      <td>7</td>\n",
       "      <td>0</td>\n",
       "    </tr>\n",
       "  </tbody>\n",
       "</table>\n",
       "<p>5 rows × 29 columns</p>\n",
       "</div>"
      ],
      "text/plain": [
       "  Activity Type                Date  Favorite           Title  Distance  \\\n",
       "0       Running 2020-11-25 17:56:00     False  Boston Running      6.21   \n",
       "1       Running 2020-11-24 14:48:00     False  Boston Running      5.17   \n",
       "2       Running 2020-11-21 15:31:00     False  Boston Running      6.21   \n",
       "3       Running 2020-11-20 17:10:00     False  Boston Running      7.24   \n",
       "4       Running 2020-11-18 17:08:00     False  Boston Running      6.10   \n",
       "\n",
       "  Calories     Time  Avg HR  Max HR  Avg Run Cadence  ...  Grit Flow  \\\n",
       "0      726  0:45:21     178     187              179  ...     0    0   \n",
       "1      593  0:36:17     179     191              180  ...     0    0   \n",
       "2      697  0:44:44     175     185              180  ...     0    0   \n",
       "3      867  0:53:02     180     191              177  ...     0    0   \n",
       "4      743  0:46:00     175     190              179  ...     0    0   \n",
       "\n",
       "  Climb Time Bottom Time  Min Temp  Surface Interval  Decompression  \\\n",
       "0   45:21:00        0:00         0              0:00             No   \n",
       "1   36:17:00        0:00         0              0:00             No   \n",
       "2   44:44:00        0:00         0              0:00             No   \n",
       "3   53:02:00        0:00         0              0:00             No   \n",
       "4   46:00:00        0:00         0              0:00             No   \n",
       "\n",
       "   Best Lap Time  Number of Laps  Max Temp  \n",
       "0        01:32.1               7         0  \n",
       "1        01:08.0               6         0  \n",
       "2        01:29.4               7         0  \n",
       "3        01:48.9               8         0  \n",
       "4        00:48.2               7         0  \n",
       "\n",
       "[5 rows x 29 columns]"
      ]
     },
     "execution_count": 12,
     "metadata": {},
     "output_type": "execute_result"
    }
   ],
   "source": [
    "df_2020.head()"
   ]
  },
  {
   "cell_type": "code",
   "execution_count": 13,
   "metadata": {},
   "outputs": [],
   "source": [
    "df_train=df_2020['Distance'],df_2020['Avg HR'],df_2020['Max HR'],df_2020['Avg Run Cadence'],df_2020['Max Run Cadence'],df_2020['Avg Stride Length']\n",
    "df_train=pd.DataFrame(df_train)"
   ]
  },
  {
   "cell_type": "code",
   "execution_count": 14,
   "metadata": {},
   "outputs": [],
   "source": [
    "df_train=df_train.T\n"
   ]
  },
  {
   "cell_type": "code",
   "execution_count": 15,
   "metadata": {},
   "outputs": [
    {
     "data": {
      "text/plain": [
       "RandomForestRegressor(bootstrap=True, ccp_alpha=0.0, criterion='mse',\n",
       "                      max_depth=None, max_features='auto', max_leaf_nodes=None,\n",
       "                      max_samples=None, min_impurity_decrease=0.0,\n",
       "                      min_impurity_split=None, min_samples_leaf=1,\n",
       "                      min_samples_split=2, min_weight_fraction_leaf=0.0,\n",
       "                      n_estimators=100, n_jobs=-1, oob_score=False,\n",
       "                      random_state=None, verbose=0, warm_start=False)"
      ]
     },
     "execution_count": 15,
     "metadata": {},
     "output_type": "execute_result"
    }
   ],
   "source": [
    "#RandomForestRegressor\n",
    "np.random.seed(11)\n",
    "#split into dependent and independent variables\n",
    "X= df_train.drop('Distance',axis=1)\n",
    "y= df_train['Distance']\n",
    "\n",
    "\n",
    "X_train, X_test, y_train, y_test = train_test_split(X,y,test_size=0.2)\n",
    "random_forest_model = RandomForestRegressor(n_jobs=-1)\n",
    "                                                       \n",
    "# Fit the model\n",
    "random_forest_model.fit(X_train,y_train)"
   ]
  },
  {
   "cell_type": "code",
   "execution_count": 16,
   "metadata": {},
   "outputs": [
    {
     "data": {
      "text/plain": [
       "0.8788622509876834"
      ]
     },
     "execution_count": 16,
     "metadata": {},
     "output_type": "execute_result"
    }
   ],
   "source": [
    "random_forest_model.score(X_train,y_train)"
   ]
  },
  {
   "cell_type": "code",
   "execution_count": 17,
   "metadata": {},
   "outputs": [
    {
     "data": {
      "text/plain": [
       "1.3070599999999992"
      ]
     },
     "execution_count": 17,
     "metadata": {},
     "output_type": "execute_result"
    }
   ],
   "source": [
    "y_preds= random_forest_model.predict(X_test)\n",
    "mae = mean_absolute_error(y_test, y_preds)\n",
    "mae"
   ]
  },
  {
   "cell_type": "code",
   "execution_count": 18,
   "metadata": {},
   "outputs": [],
   "source": [
    "def show_scores(model):\n",
    "    train_preds = model.predict(X_train)\n",
    "    val_preds = model.predict(X_test)\n",
    "    \n",
    "    scores = {'training data mae': mean_absolute_error(y_train, train_preds),\n",
    "             'valid mae': mean_absolute_error(y_test,val_preds),\n",
    "             'train mean squared error': mean_squared_error(y_test,y_preds),\n",
    "             'training R^2': r2_score(y_train,train_preds),\n",
    "             'valid R^2': r2_score(y_test,val_preds)}\n",
    "    return scores"
   ]
  },
  {
   "cell_type": "code",
   "execution_count": 19,
   "metadata": {},
   "outputs": [
    {
     "data": {
      "text/plain": [
       "{'training data mae': 0.40273357664233583,\n",
       " 'valid mae': 1.3070599999999992,\n",
       " 'train mean squared error': 3.366986305428568,\n",
       " 'training R^2': 0.8788622509876834,\n",
       " 'valid R^2': 0.08945413934773394}"
      ]
     },
     "execution_count": 19,
     "metadata": {},
     "output_type": "execute_result"
    }
   ],
   "source": [
    "show_scores(random_forest_model)"
   ]
  },
  {
   "cell_type": "code",
   "execution_count": 20,
   "metadata": {},
   "outputs": [
    {
     "data": {
      "text/plain": [
       "4.996"
      ]
     },
     "execution_count": 20,
     "metadata": {},
     "output_type": "execute_result"
    }
   ],
   "source": [
    "y_test_mean = np.full(len(y_test), y_test.mean())\n",
    "y_test.mean()"
   ]
  },
  {
   "cell_type": "code",
   "execution_count": 21,
   "metadata": {},
   "outputs": [
    {
     "data": {
      "text/html": [
       "<div>\n",
       "<style scoped>\n",
       "    .dataframe tbody tr th:only-of-type {\n",
       "        vertical-align: middle;\n",
       "    }\n",
       "\n",
       "    .dataframe tbody tr th {\n",
       "        vertical-align: top;\n",
       "    }\n",
       "\n",
       "    .dataframe thead th {\n",
       "        text-align: right;\n",
       "    }\n",
       "</style>\n",
       "<table border=\"1\" class=\"dataframe\">\n",
       "  <thead>\n",
       "    <tr style=\"text-align: right;\">\n",
       "      <th></th>\n",
       "      <th>actual values</th>\n",
       "      <th>predicted values</th>\n",
       "      <th>diff</th>\n",
       "    </tr>\n",
       "  </thead>\n",
       "  <tbody>\n",
       "    <tr>\n",
       "      <th>97</th>\n",
       "      <td>3.51</td>\n",
       "      <td>3.8909</td>\n",
       "      <td>0.3809</td>\n",
       "    </tr>\n",
       "    <tr>\n",
       "      <th>108</th>\n",
       "      <td>4.54</td>\n",
       "      <td>4.5682</td>\n",
       "      <td>0.0282</td>\n",
       "    </tr>\n",
       "    <tr>\n",
       "      <th>0</th>\n",
       "      <td>6.21</td>\n",
       "      <td>5.8607</td>\n",
       "      <td>-0.3493</td>\n",
       "    </tr>\n",
       "    <tr>\n",
       "      <th>55</th>\n",
       "      <td>3.41</td>\n",
       "      <td>4.9293</td>\n",
       "      <td>1.5193</td>\n",
       "    </tr>\n",
       "    <tr>\n",
       "      <th>3</th>\n",
       "      <td>7.24</td>\n",
       "      <td>5.4959</td>\n",
       "      <td>-1.7441</td>\n",
       "    </tr>\n",
       "  </tbody>\n",
       "</table>\n",
       "</div>"
      ],
      "text/plain": [
       "     actual values  predicted values    diff\n",
       "97            3.51            3.8909  0.3809\n",
       "108           4.54            4.5682  0.0282\n",
       "0             6.21            5.8607 -0.3493\n",
       "55            3.41            4.9293  1.5193\n",
       "3             7.24            5.4959 -1.7441"
      ]
     },
     "execution_count": 21,
     "metadata": {},
     "output_type": "execute_result"
    }
   ],
   "source": [
    "df= pd.DataFrame(data={'actual values':y_test,\n",
    "                      'predicted values': y_preds})\n",
    "df['diff']=df['predicted values']-df['actual values']\n",
    "df.head()"
   ]
  },
  {
   "cell_type": "code",
   "execution_count": 22,
   "metadata": {},
   "outputs": [
    {
     "data": {
      "text/plain": [
       "0.24893138984164598"
      ]
     },
     "execution_count": 22,
     "metadata": {},
     "output_type": "execute_result"
    }
   ],
   "source": [
    "#Ridge model\n",
    "np.random.seed(11)\n",
    "\n",
    "X= df_train.drop('Distance',axis=1)\n",
    "y= df_train['Distance']\n",
    "\n",
    "\n",
    "X_train, X_test, y_train, y_test = train_test_split(X,y,test_size=0.2)\n",
    "ridge_model = Ridge()\n",
    "                                                       \n",
    "# Fit the model\n",
    "ridge_model.fit(X_train,y_train)\n",
    "ridge_model.score(X_test,y_test)"
   ]
  },
  {
   "cell_type": "code",
   "execution_count": 23,
   "metadata": {},
   "outputs": [
    {
     "data": {
      "text/plain": [
       "{'training data mae': 0.9930635334253607,\n",
       " 'valid mae': 1.243119797360668,\n",
       " 'train mean squared error': 3.366986305428568,\n",
       " 'training R^2': 0.20900832848820683,\n",
       " 'valid R^2': 0.24893138984164598}"
      ]
     },
     "execution_count": 23,
     "metadata": {},
     "output_type": "execute_result"
    }
   ],
   "source": [
    "show_scores(ridge_model)"
   ]
  },
  {
   "cell_type": "code",
   "execution_count": 24,
   "metadata": {},
   "outputs": [
    {
     "data": {
      "text/plain": [
       "1.3070599999999992"
      ]
     },
     "execution_count": 24,
     "metadata": {},
     "output_type": "execute_result"
    }
   ],
   "source": [
    "mean_absolute_error(y_test, y_preds)"
   ]
  },
  {
   "cell_type": "code",
   "execution_count": 25,
   "metadata": {},
   "outputs": [
    {
     "data": {
      "text/plain": [
       "1.243119797360668"
      ]
     },
     "execution_count": 25,
     "metadata": {},
     "output_type": "execute_result"
    }
   ],
   "source": [
    "y_preds= ridge_model.predict(X_test)\n",
    "mae = mean_absolute_error(y_test, y_preds)\n",
    "mae"
   ]
  },
  {
   "cell_type": "code",
   "execution_count": 27,
   "metadata": {},
   "outputs": [
    {
     "data": {
      "text/html": [
       "<div>\n",
       "<style scoped>\n",
       "    .dataframe tbody tr th:only-of-type {\n",
       "        vertical-align: middle;\n",
       "    }\n",
       "\n",
       "    .dataframe tbody tr th {\n",
       "        vertical-align: top;\n",
       "    }\n",
       "\n",
       "    .dataframe thead th {\n",
       "        text-align: right;\n",
       "    }\n",
       "</style>\n",
       "<table border=\"1\" class=\"dataframe\">\n",
       "  <thead>\n",
       "    <tr style=\"text-align: right;\">\n",
       "      <th></th>\n",
       "      <th>actual values</th>\n",
       "      <th>predicted values</th>\n",
       "      <th>diff</th>\n",
       "    </tr>\n",
       "  </thead>\n",
       "  <tbody>\n",
       "    <tr>\n",
       "      <th>97</th>\n",
       "      <td>3.51</td>\n",
       "      <td>4.480133</td>\n",
       "      <td>0.970133</td>\n",
       "    </tr>\n",
       "    <tr>\n",
       "      <th>108</th>\n",
       "      <td>4.54</td>\n",
       "      <td>4.114869</td>\n",
       "      <td>-0.425131</td>\n",
       "    </tr>\n",
       "    <tr>\n",
       "      <th>0</th>\n",
       "      <td>6.21</td>\n",
       "      <td>6.232888</td>\n",
       "      <td>0.022888</td>\n",
       "    </tr>\n",
       "    <tr>\n",
       "      <th>55</th>\n",
       "      <td>3.41</td>\n",
       "      <td>4.762311</td>\n",
       "      <td>1.352311</td>\n",
       "    </tr>\n",
       "    <tr>\n",
       "      <th>3</th>\n",
       "      <td>7.24</td>\n",
       "      <td>5.925491</td>\n",
       "      <td>-1.314509</td>\n",
       "    </tr>\n",
       "    <tr>\n",
       "      <th>69</th>\n",
       "      <td>0.60</td>\n",
       "      <td>4.376175</td>\n",
       "      <td>3.776175</td>\n",
       "    </tr>\n",
       "    <tr>\n",
       "      <th>94</th>\n",
       "      <td>4.34</td>\n",
       "      <td>4.479313</td>\n",
       "      <td>0.139313</td>\n",
       "    </tr>\n",
       "    <tr>\n",
       "      <th>133</th>\n",
       "      <td>3.03</td>\n",
       "      <td>4.417023</td>\n",
       "      <td>1.387023</td>\n",
       "    </tr>\n",
       "    <tr>\n",
       "      <th>128</th>\n",
       "      <td>6.03</td>\n",
       "      <td>4.411459</td>\n",
       "      <td>-1.618541</td>\n",
       "    </tr>\n",
       "    <tr>\n",
       "      <th>46</th>\n",
       "      <td>3.13</td>\n",
       "      <td>5.321433</td>\n",
       "      <td>2.191433</td>\n",
       "    </tr>\n",
       "  </tbody>\n",
       "</table>\n",
       "</div>"
      ],
      "text/plain": [
       "     actual values  predicted values      diff\n",
       "97            3.51          4.480133  0.970133\n",
       "108           4.54          4.114869 -0.425131\n",
       "0             6.21          6.232888  0.022888\n",
       "55            3.41          4.762311  1.352311\n",
       "3             7.24          5.925491 -1.314509\n",
       "69            0.60          4.376175  3.776175\n",
       "94            4.34          4.479313  0.139313\n",
       "133           3.03          4.417023  1.387023\n",
       "128           6.03          4.411459 -1.618541\n",
       "46            3.13          5.321433  2.191433"
      ]
     },
     "execution_count": 27,
     "metadata": {},
     "output_type": "execute_result"
    }
   ],
   "source": [
    "df= pd.DataFrame(data={'actual values':y_test,\n",
    "                      'predicted values': y_preds})\n",
    "df['diff']=df['predicted values']-df['actual values']\n",
    "df.head(10)"
   ]
  },
  {
   "cell_type": "code",
   "execution_count": null,
   "metadata": {},
   "outputs": [],
   "source": []
  }
 ],
 "metadata": {
  "kernelspec": {
   "display_name": "Python 3",
   "language": "python",
   "name": "python3"
  },
  "language_info": {
   "codemirror_mode": {
    "name": "ipython",
    "version": 3
   },
   "file_extension": ".py",
   "mimetype": "text/x-python",
   "name": "python",
   "nbconvert_exporter": "python",
   "pygments_lexer": "ipython3",
   "version": "3.7.9"
  }
 },
 "nbformat": 4,
 "nbformat_minor": 4
}
