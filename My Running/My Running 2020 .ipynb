{
 "cells": [
  {
   "cell_type": "markdown",
   "metadata": {},
   "source": [
    "EDA and a little regression on my running over the last year"
   ]
  },
  {
   "cell_type": "code",
   "execution_count": 1,
   "metadata": {},
   "outputs": [
    {
     "name": "stderr",
     "output_type": "stream",
     "text": [
      "\n",
      "Bad key \"text.kerning_factor\" on line 4 in\n",
      "C:\\Users\\Dan\\Anaconda3\\lib\\site-packages\\matplotlib\\mpl-data\\stylelib\\_classic_test_patch.mplstyle.\n",
      "You probably need to get an updated matplotlibrc file from\n",
      "https://github.com/matplotlib/matplotlib/blob/v3.1.3/matplotlibrc.template\n",
      "or from the matplotlib source distribution\n"
     ]
    }
   ],
   "source": [
    "\n",
    "import pandas as pd\n",
    "import numpy as np\n",
    "import matplotlib.pyplot as plt\n",
    "import seaborn as sns\n",
    "\n",
    "#models for scikit learn\n",
    "from sklearn.linear_model import Ridge\n",
    "from sklearn.ensemble import RandomForestRegressor\n",
    "%matplotlib inline\n",
    "\n",
    "\n",
    "\n",
    "#models eval\n",
    "from sklearn.model_selection import train_test_split, cross_val_score\n",
    "from sklearn.model_selection import RandomizedSearchCV, GridSearchCV\n",
    "from sklearn.metrics import confusion_matrix, classification_report\n",
    "from sklearn.metrics import accuracy_score, precision_score, recall_score, f1_score,r2_score,mean_absolute_error,mean_squared_error\n",
    "\n",
    "from sklearn.metrics import plot_roc_curve\n",
    "\n",
    "file_2020= (r'C:\\Users\\Dan\\Desktop\\Garmin\\Running 2020.csv')\n",
    "df_2020= pd.read_csv(file_2020, parse_dates=['Date'])"
   ]
  },
  {
   "cell_type": "code",
   "execution_count": 2,
   "metadata": {},
   "outputs": [
    {
     "data": {
      "text/html": [
       "<div>\n",
       "<style scoped>\n",
       "    .dataframe tbody tr th:only-of-type {\n",
       "        vertical-align: middle;\n",
       "    }\n",
       "\n",
       "    .dataframe tbody tr th {\n",
       "        vertical-align: top;\n",
       "    }\n",
       "\n",
       "    .dataframe thead th {\n",
       "        text-align: right;\n",
       "    }\n",
       "</style>\n",
       "<table border=\"1\" class=\"dataframe\">\n",
       "  <thead>\n",
       "    <tr style=\"text-align: right;\">\n",
       "      <th></th>\n",
       "      <th>Activity Type</th>\n",
       "      <th>Date</th>\n",
       "      <th>Favorite</th>\n",
       "      <th>Title</th>\n",
       "      <th>Distance</th>\n",
       "      <th>Calories</th>\n",
       "      <th>Time</th>\n",
       "      <th>Avg HR</th>\n",
       "      <th>Max HR</th>\n",
       "      <th>Avg Run Cadence</th>\n",
       "      <th>...</th>\n",
       "      <th>Grit</th>\n",
       "      <th>Flow</th>\n",
       "      <th>Climb Time</th>\n",
       "      <th>Bottom Time</th>\n",
       "      <th>Min Temp</th>\n",
       "      <th>Surface Interval</th>\n",
       "      <th>Decompression</th>\n",
       "      <th>Best Lap Time</th>\n",
       "      <th>Number of Laps</th>\n",
       "      <th>Max Temp</th>\n",
       "    </tr>\n",
       "  </thead>\n",
       "  <tbody>\n",
       "    <tr>\n",
       "      <th>0</th>\n",
       "      <td>Running</td>\n",
       "      <td>2020-12-31 23:29:00</td>\n",
       "      <td>False</td>\n",
       "      <td>Boston Running</td>\n",
       "      <td>0.50</td>\n",
       "      <td>49</td>\n",
       "      <td>03:36.5</td>\n",
       "      <td>154</td>\n",
       "      <td>172</td>\n",
       "      <td>175</td>\n",
       "      <td>...</td>\n",
       "      <td>0</td>\n",
       "      <td>0</td>\n",
       "      <td>03:36.5</td>\n",
       "      <td>0:00</td>\n",
       "      <td>0</td>\n",
       "      <td>0:00</td>\n",
       "      <td>No</td>\n",
       "      <td>03:36.5</td>\n",
       "      <td>1</td>\n",
       "      <td>0</td>\n",
       "    </tr>\n",
       "    <tr>\n",
       "      <th>1</th>\n",
       "      <td>Running</td>\n",
       "      <td>2020-12-31 17:41:00</td>\n",
       "      <td>False</td>\n",
       "      <td>Boston Running</td>\n",
       "      <td>8.38</td>\n",
       "      <td>942</td>\n",
       "      <td>1:00:31</td>\n",
       "      <td>174</td>\n",
       "      <td>192</td>\n",
       "      <td>179</td>\n",
       "      <td>...</td>\n",
       "      <td>0</td>\n",
       "      <td>0</td>\n",
       "      <td>1:00:31</td>\n",
       "      <td>0:00</td>\n",
       "      <td>0</td>\n",
       "      <td>0:00</td>\n",
       "      <td>No</td>\n",
       "      <td>02:49.3</td>\n",
       "      <td>9</td>\n",
       "      <td>0</td>\n",
       "    </tr>\n",
       "    <tr>\n",
       "      <th>2</th>\n",
       "      <td>Running</td>\n",
       "      <td>2020-12-30 17:28:00</td>\n",
       "      <td>False</td>\n",
       "      <td>Boston Running</td>\n",
       "      <td>7.58</td>\n",
       "      <td>851</td>\n",
       "      <td>0:54:38</td>\n",
       "      <td>174</td>\n",
       "      <td>191</td>\n",
       "      <td>179</td>\n",
       "      <td>...</td>\n",
       "      <td>0</td>\n",
       "      <td>0</td>\n",
       "      <td>54:38:00</td>\n",
       "      <td>0:00</td>\n",
       "      <td>0</td>\n",
       "      <td>0:00</td>\n",
       "      <td>No</td>\n",
       "      <td>04:04.8</td>\n",
       "      <td>8</td>\n",
       "      <td>0</td>\n",
       "    </tr>\n",
       "    <tr>\n",
       "      <th>3</th>\n",
       "      <td>Running</td>\n",
       "      <td>2020-12-29 16:37:00</td>\n",
       "      <td>False</td>\n",
       "      <td>Boston Running</td>\n",
       "      <td>6.76</td>\n",
       "      <td>778</td>\n",
       "      <td>0:51:05</td>\n",
       "      <td>173</td>\n",
       "      <td>186</td>\n",
       "      <td>177</td>\n",
       "      <td>...</td>\n",
       "      <td>0</td>\n",
       "      <td>0</td>\n",
       "      <td>51:05:00</td>\n",
       "      <td>0:00</td>\n",
       "      <td>0</td>\n",
       "      <td>0:00</td>\n",
       "      <td>No</td>\n",
       "      <td>06:08.4</td>\n",
       "      <td>7</td>\n",
       "      <td>0</td>\n",
       "    </tr>\n",
       "    <tr>\n",
       "      <th>4</th>\n",
       "      <td>Running</td>\n",
       "      <td>2020-12-27 17:22:00</td>\n",
       "      <td>False</td>\n",
       "      <td>Boston Running</td>\n",
       "      <td>6.34</td>\n",
       "      <td>747</td>\n",
       "      <td>0:47:32</td>\n",
       "      <td>176</td>\n",
       "      <td>184</td>\n",
       "      <td>178</td>\n",
       "      <td>...</td>\n",
       "      <td>0</td>\n",
       "      <td>0</td>\n",
       "      <td>47:32:00</td>\n",
       "      <td>0:00</td>\n",
       "      <td>0</td>\n",
       "      <td>0:00</td>\n",
       "      <td>No</td>\n",
       "      <td>02:31.3</td>\n",
       "      <td>7</td>\n",
       "      <td>0</td>\n",
       "    </tr>\n",
       "  </tbody>\n",
       "</table>\n",
       "<p>5 rows × 29 columns</p>\n",
       "</div>"
      ],
      "text/plain": [
       "  Activity Type                Date  Favorite           Title  Distance  \\\n",
       "0       Running 2020-12-31 23:29:00     False  Boston Running      0.50   \n",
       "1       Running 2020-12-31 17:41:00     False  Boston Running      8.38   \n",
       "2       Running 2020-12-30 17:28:00     False  Boston Running      7.58   \n",
       "3       Running 2020-12-29 16:37:00     False  Boston Running      6.76   \n",
       "4       Running 2020-12-27 17:22:00     False  Boston Running      6.34   \n",
       "\n",
       "  Calories     Time  Avg HR  Max HR  Avg Run Cadence  ...  Grit Flow  \\\n",
       "0       49  03:36.5     154     172              175  ...     0    0   \n",
       "1      942  1:00:31     174     192              179  ...     0    0   \n",
       "2      851  0:54:38     174     191              179  ...     0    0   \n",
       "3      778  0:51:05     173     186              177  ...     0    0   \n",
       "4      747  0:47:32     176     184              178  ...     0    0   \n",
       "\n",
       "  Climb Time  Bottom Time  Min Temp  Surface Interval  Decompression  \\\n",
       "0    03:36.5         0:00         0              0:00             No   \n",
       "1    1:00:31         0:00         0              0:00             No   \n",
       "2   54:38:00         0:00         0              0:00             No   \n",
       "3   51:05:00         0:00         0              0:00             No   \n",
       "4   47:32:00         0:00         0              0:00             No   \n",
       "\n",
       "   Best Lap Time  Number of Laps  Max Temp  \n",
       "0        03:36.5               1         0  \n",
       "1        02:49.3               9         0  \n",
       "2        04:04.8               8         0  \n",
       "3        06:08.4               7         0  \n",
       "4        02:31.3               7         0  \n",
       "\n",
       "[5 rows x 29 columns]"
      ]
     },
     "execution_count": 2,
     "metadata": {},
     "output_type": "execute_result"
    }
   ],
   "source": [
    "df_2020.head()"
   ]
  },
  {
   "cell_type": "code",
   "execution_count": 3,
   "metadata": {},
   "outputs": [
    {
     "data": {
      "text/html": [
       "<div>\n",
       "<style scoped>\n",
       "    .dataframe tbody tr th:only-of-type {\n",
       "        vertical-align: middle;\n",
       "    }\n",
       "\n",
       "    .dataframe tbody tr th {\n",
       "        vertical-align: top;\n",
       "    }\n",
       "\n",
       "    .dataframe thead th {\n",
       "        text-align: right;\n",
       "    }\n",
       "</style>\n",
       "<table border=\"1\" class=\"dataframe\">\n",
       "  <thead>\n",
       "    <tr style=\"text-align: right;\">\n",
       "      <th></th>\n",
       "      <th>Distance</th>\n",
       "      <th>Avg HR</th>\n",
       "      <th>Max HR</th>\n",
       "      <th>Avg Run Cadence</th>\n",
       "      <th>Max Run Cadence</th>\n",
       "      <th>Elev Gain</th>\n",
       "      <th>Elev Loss</th>\n",
       "      <th>Avg Stride Length</th>\n",
       "      <th>Avg Vertical Ratio</th>\n",
       "      <th>Avg Vertical Oscillation</th>\n",
       "      <th>Training Stress Score®</th>\n",
       "      <th>Grit</th>\n",
       "      <th>Flow</th>\n",
       "      <th>Min Temp</th>\n",
       "      <th>Number of Laps</th>\n",
       "      <th>Max Temp</th>\n",
       "    </tr>\n",
       "  </thead>\n",
       "  <tbody>\n",
       "    <tr>\n",
       "      <th>count</th>\n",
       "      <td>195.000000</td>\n",
       "      <td>195.000000</td>\n",
       "      <td>195.000000</td>\n",
       "      <td>195.000000</td>\n",
       "      <td>195.000000</td>\n",
       "      <td>195.000000</td>\n",
       "      <td>195.000000</td>\n",
       "      <td>195.000000</td>\n",
       "      <td>195.0</td>\n",
       "      <td>195.0</td>\n",
       "      <td>195.0</td>\n",
       "      <td>195.0</td>\n",
       "      <td>195.0</td>\n",
       "      <td>195.0</td>\n",
       "      <td>195.000000</td>\n",
       "      <td>195.0</td>\n",
       "    </tr>\n",
       "    <tr>\n",
       "      <th>mean</th>\n",
       "      <td>5.134308</td>\n",
       "      <td>159.974359</td>\n",
       "      <td>176.625641</td>\n",
       "      <td>180.287179</td>\n",
       "      <td>194.928205</td>\n",
       "      <td>85.005128</td>\n",
       "      <td>101.066667</td>\n",
       "      <td>1.198205</td>\n",
       "      <td>0.0</td>\n",
       "      <td>0.0</td>\n",
       "      <td>0.0</td>\n",
       "      <td>0.0</td>\n",
       "      <td>0.0</td>\n",
       "      <td>0.0</td>\n",
       "      <td>5.887179</td>\n",
       "      <td>0.0</td>\n",
       "    </tr>\n",
       "    <tr>\n",
       "      <th>std</th>\n",
       "      <td>1.821937</td>\n",
       "      <td>11.735239</td>\n",
       "      <td>10.407588</td>\n",
       "      <td>3.104634</td>\n",
       "      <td>12.077284</td>\n",
       "      <td>45.250107</td>\n",
       "      <td>42.027859</td>\n",
       "      <td>0.094642</td>\n",
       "      <td>0.0</td>\n",
       "      <td>0.0</td>\n",
       "      <td>0.0</td>\n",
       "      <td>0.0</td>\n",
       "      <td>0.0</td>\n",
       "      <td>0.0</td>\n",
       "      <td>1.857720</td>\n",
       "      <td>0.0</td>\n",
       "    </tr>\n",
       "    <tr>\n",
       "      <th>min</th>\n",
       "      <td>0.350000</td>\n",
       "      <td>131.000000</td>\n",
       "      <td>140.000000</td>\n",
       "      <td>173.000000</td>\n",
       "      <td>180.000000</td>\n",
       "      <td>7.000000</td>\n",
       "      <td>16.000000</td>\n",
       "      <td>0.000000</td>\n",
       "      <td>0.0</td>\n",
       "      <td>0.0</td>\n",
       "      <td>0.0</td>\n",
       "      <td>0.0</td>\n",
       "      <td>0.0</td>\n",
       "      <td>0.0</td>\n",
       "      <td>1.000000</td>\n",
       "      <td>0.0</td>\n",
       "    </tr>\n",
       "    <tr>\n",
       "      <th>25%</th>\n",
       "      <td>4.010000</td>\n",
       "      <td>151.000000</td>\n",
       "      <td>169.000000</td>\n",
       "      <td>178.000000</td>\n",
       "      <td>188.000000</td>\n",
       "      <td>59.000000</td>\n",
       "      <td>72.000000</td>\n",
       "      <td>1.180000</td>\n",
       "      <td>0.0</td>\n",
       "      <td>0.0</td>\n",
       "      <td>0.0</td>\n",
       "      <td>0.0</td>\n",
       "      <td>0.0</td>\n",
       "      <td>0.0</td>\n",
       "      <td>5.000000</td>\n",
       "      <td>0.0</td>\n",
       "    </tr>\n",
       "    <tr>\n",
       "      <th>50%</th>\n",
       "      <td>5.020000</td>\n",
       "      <td>157.000000</td>\n",
       "      <td>176.000000</td>\n",
       "      <td>180.000000</td>\n",
       "      <td>192.000000</td>\n",
       "      <td>75.000000</td>\n",
       "      <td>98.000000</td>\n",
       "      <td>1.210000</td>\n",
       "      <td>0.0</td>\n",
       "      <td>0.0</td>\n",
       "      <td>0.0</td>\n",
       "      <td>0.0</td>\n",
       "      <td>0.0</td>\n",
       "      <td>0.0</td>\n",
       "      <td>6.000000</td>\n",
       "      <td>0.0</td>\n",
       "    </tr>\n",
       "    <tr>\n",
       "      <th>75%</th>\n",
       "      <td>6.080000</td>\n",
       "      <td>171.000000</td>\n",
       "      <td>185.500000</td>\n",
       "      <td>182.000000</td>\n",
       "      <td>196.000000</td>\n",
       "      <td>98.000000</td>\n",
       "      <td>126.500000</td>\n",
       "      <td>1.230000</td>\n",
       "      <td>0.0</td>\n",
       "      <td>0.0</td>\n",
       "      <td>0.0</td>\n",
       "      <td>0.0</td>\n",
       "      <td>0.0</td>\n",
       "      <td>0.0</td>\n",
       "      <td>7.000000</td>\n",
       "      <td>0.0</td>\n",
       "    </tr>\n",
       "    <tr>\n",
       "      <th>max</th>\n",
       "      <td>12.000000</td>\n",
       "      <td>184.000000</td>\n",
       "      <td>198.000000</td>\n",
       "      <td>190.000000</td>\n",
       "      <td>248.000000</td>\n",
       "      <td>430.000000</td>\n",
       "      <td>256.000000</td>\n",
       "      <td>1.330000</td>\n",
       "      <td>0.0</td>\n",
       "      <td>0.0</td>\n",
       "      <td>0.0</td>\n",
       "      <td>0.0</td>\n",
       "      <td>0.0</td>\n",
       "      <td>0.0</td>\n",
       "      <td>13.000000</td>\n",
       "      <td>0.0</td>\n",
       "    </tr>\n",
       "  </tbody>\n",
       "</table>\n",
       "</div>"
      ],
      "text/plain": [
       "         Distance      Avg HR      Max HR  Avg Run Cadence  Max Run Cadence  \\\n",
       "count  195.000000  195.000000  195.000000       195.000000       195.000000   \n",
       "mean     5.134308  159.974359  176.625641       180.287179       194.928205   \n",
       "std      1.821937   11.735239   10.407588         3.104634        12.077284   \n",
       "min      0.350000  131.000000  140.000000       173.000000       180.000000   \n",
       "25%      4.010000  151.000000  169.000000       178.000000       188.000000   \n",
       "50%      5.020000  157.000000  176.000000       180.000000       192.000000   \n",
       "75%      6.080000  171.000000  185.500000       182.000000       196.000000   \n",
       "max     12.000000  184.000000  198.000000       190.000000       248.000000   \n",
       "\n",
       "        Elev Gain   Elev Loss  Avg Stride Length  Avg Vertical Ratio  \\\n",
       "count  195.000000  195.000000         195.000000               195.0   \n",
       "mean    85.005128  101.066667           1.198205                 0.0   \n",
       "std     45.250107   42.027859           0.094642                 0.0   \n",
       "min      7.000000   16.000000           0.000000                 0.0   \n",
       "25%     59.000000   72.000000           1.180000                 0.0   \n",
       "50%     75.000000   98.000000           1.210000                 0.0   \n",
       "75%     98.000000  126.500000           1.230000                 0.0   \n",
       "max    430.000000  256.000000           1.330000                 0.0   \n",
       "\n",
       "       Avg Vertical Oscillation  Training Stress Score®   Grit   Flow  \\\n",
       "count                     195.0                   195.0  195.0  195.0   \n",
       "mean                        0.0                     0.0    0.0    0.0   \n",
       "std                         0.0                     0.0    0.0    0.0   \n",
       "min                         0.0                     0.0    0.0    0.0   \n",
       "25%                         0.0                     0.0    0.0    0.0   \n",
       "50%                         0.0                     0.0    0.0    0.0   \n",
       "75%                         0.0                     0.0    0.0    0.0   \n",
       "max                         0.0                     0.0    0.0    0.0   \n",
       "\n",
       "       Min Temp  Number of Laps  Max Temp  \n",
       "count     195.0      195.000000     195.0  \n",
       "mean        0.0        5.887179       0.0  \n",
       "std         0.0        1.857720       0.0  \n",
       "min         0.0        1.000000       0.0  \n",
       "25%         0.0        5.000000       0.0  \n",
       "50%         0.0        6.000000       0.0  \n",
       "75%         0.0        7.000000       0.0  \n",
       "max         0.0       13.000000       0.0  "
      ]
     },
     "execution_count": 3,
     "metadata": {},
     "output_type": "execute_result"
    }
   ],
   "source": [
    "df_2020.describe()"
   ]
  },
  {
   "cell_type": "code",
   "execution_count": 4,
   "metadata": {},
   "outputs": [
    {
     "name": "stdout",
     "output_type": "stream",
     "text": [
      "<class 'pandas.core.frame.DataFrame'>\n",
      "RangeIndex: 195 entries, 0 to 194\n",
      "Data columns (total 29 columns):\n",
      " #   Column                    Non-Null Count  Dtype         \n",
      "---  ------                    --------------  -----         \n",
      " 0   Activity Type             195 non-null    object        \n",
      " 1   Date                      195 non-null    datetime64[ns]\n",
      " 2   Favorite                  195 non-null    bool          \n",
      " 3   Title                     195 non-null    object        \n",
      " 4   Distance                  195 non-null    float64       \n",
      " 5   Calories                  195 non-null    object        \n",
      " 6   Time                      195 non-null    object        \n",
      " 7   Avg HR                    195 non-null    int64         \n",
      " 8   Max HR                    195 non-null    int64         \n",
      " 9   Avg Run Cadence           195 non-null    int64         \n",
      " 10  Max Run Cadence           195 non-null    int64         \n",
      " 11  Avg Pace                  195 non-null    object        \n",
      " 12  Best Pace                 195 non-null    object        \n",
      " 13  Elev Gain                 195 non-null    int64         \n",
      " 14  Elev Loss                 195 non-null    int64         \n",
      " 15  Avg Stride Length         195 non-null    float64       \n",
      " 16  Avg Vertical Ratio        195 non-null    int64         \n",
      " 17  Avg Vertical Oscillation  195 non-null    int64         \n",
      " 18  Training Stress Score®    195 non-null    int64         \n",
      " 19  Grit                      195 non-null    int64         \n",
      " 20  Flow                      195 non-null    int64         \n",
      " 21  Climb Time                195 non-null    object        \n",
      " 22  Bottom Time               195 non-null    object        \n",
      " 23  Min Temp                  195 non-null    int64         \n",
      " 24  Surface Interval          195 non-null    object        \n",
      " 25  Decompression             195 non-null    object        \n",
      " 26  Best Lap Time             195 non-null    object        \n",
      " 27  Number of Laps            195 non-null    int64         \n",
      " 28  Max Temp                  195 non-null    int64         \n",
      "dtypes: bool(1), datetime64[ns](1), float64(2), int64(14), object(11)\n",
      "memory usage: 43.0+ KB\n"
     ]
    }
   ],
   "source": [
    "df_2020.info()"
   ]
  },
  {
   "cell_type": "code",
   "execution_count": 5,
   "metadata": {},
   "outputs": [
    {
     "data": {
      "text/plain": [
       "Activity Type               0\n",
       "Date                        0\n",
       "Favorite                    0\n",
       "Title                       0\n",
       "Distance                    0\n",
       "Calories                    0\n",
       "Time                        0\n",
       "Avg HR                      0\n",
       "Max HR                      0\n",
       "Avg Run Cadence             0\n",
       "Max Run Cadence             0\n",
       "Avg Pace                    0\n",
       "Best Pace                   0\n",
       "Elev Gain                   0\n",
       "Elev Loss                   0\n",
       "Avg Stride Length           0\n",
       "Avg Vertical Ratio          0\n",
       "Avg Vertical Oscillation    0\n",
       "Training Stress Score®      0\n",
       "Grit                        0\n",
       "Flow                        0\n",
       "Climb Time                  0\n",
       "Bottom Time                 0\n",
       "Min Temp                    0\n",
       "Surface Interval            0\n",
       "Decompression               0\n",
       "Best Lap Time               0\n",
       "Number of Laps              0\n",
       "Max Temp                    0\n",
       "dtype: int64"
      ]
     },
     "execution_count": 5,
     "metadata": {},
     "output_type": "execute_result"
    }
   ],
   "source": [
    "df_2020.isnull().sum()"
   ]
  },
  {
   "cell_type": "code",
   "execution_count": 6,
   "metadata": {},
   "outputs": [],
   "source": [
    "#columns I'll care about later\n",
    "col_list=['Distance','Avg HR', 'Max HR', 'Avg Run Cadence', 'Max Run Cadence','Avg Stride Length']"
   ]
  },
  {
   "cell_type": "code",
   "execution_count": 7,
   "metadata": {
    "scrolled": true
   },
   "outputs": [
    {
     "name": "stdout",
     "output_type": "stream",
     "text": [
      "milage per month\n",
      "Date\n",
      "2020-01-31     89.20\n",
      "2020-02-29     75.30\n",
      "2020-03-31     80.10\n",
      "2020-04-30     64.28\n",
      "2020-05-31     75.46\n",
      "2020-06-30     87.12\n",
      "2020-07-31     78.27\n",
      "2020-08-31    104.62\n",
      "2020-09-30     71.85\n",
      "2020-10-31     55.40\n",
      "2020-11-30     81.85\n",
      "2020-12-31    137.74\n",
      "Freq: M, Name: Distance, dtype: float64\n",
      "----------------------\n",
      "total milage: 1001.19\n",
      "Avg miles per month 83\n"
     ]
    }
   ],
   "source": [
    "\n",
    "df_data=df_2020.groupby([pd.Grouper(key='Date',freq='M')])['Distance'].sum()\n",
    "print('milage per month')\n",
    "print(df_data);\n",
    "print('----------------------')\n",
    "total_milage=df_2020['Distance'].values.sum()\n",
    "print('total milage:',total_milage)\n",
    "df_miles_monthly=df_data.resample('M').sum()\n",
    "print('Avg miles per month',round(df_miles_monthly.mean()))"
   ]
  },
  {
   "cell_type": "code",
   "execution_count": 8,
   "metadata": {},
   "outputs": [
    {
     "name": "stdout",
     "output_type": "stream",
     "text": [
      "milage per week\n",
      "Date\n",
      "2020-01-05    14.18\n",
      "2020-01-12    21.92\n",
      "2020-01-19    18.74\n",
      "2020-01-26    21.52\n",
      "2020-02-02    18.85\n",
      "2020-02-09    15.67\n",
      "2020-02-16    18.54\n",
      "2020-02-23    24.80\n",
      "2020-03-01    10.28\n",
      "2020-03-08    21.90\n",
      "2020-03-15    12.31\n",
      "2020-03-22    21.79\n",
      "2020-03-29    24.10\n",
      "2020-04-05     8.23\n",
      "2020-04-12    15.02\n",
      "2020-04-19    14.46\n",
      "2020-04-26    14.44\n",
      "2020-05-03    22.15\n",
      "2020-05-10    10.12\n",
      "2020-05-17    19.19\n",
      "2020-05-24    10.64\n",
      "2020-05-31    25.49\n",
      "2020-06-07    21.65\n",
      "2020-06-14    22.57\n",
      "2020-06-21    22.15\n",
      "2020-06-28    20.75\n",
      "2020-07-05    15.44\n",
      "2020-07-12    14.93\n",
      "2020-07-19    22.08\n",
      "2020-07-26    16.81\n",
      "2020-08-02    13.46\n",
      "2020-08-09    22.41\n",
      "2020-08-16    27.83\n",
      "2020-08-23    16.59\n",
      "2020-08-30    33.34\n",
      "2020-09-06    22.38\n",
      "2020-09-13    21.40\n",
      "2020-09-20    12.95\n",
      "2020-09-27    10.11\n",
      "2020-10-04     5.01\n",
      "2020-10-11     9.38\n",
      "2020-10-18    17.13\n",
      "2020-10-25    16.85\n",
      "2020-11-01    18.11\n",
      "2020-11-08     8.86\n",
      "2020-11-15    25.89\n",
      "2020-11-22    19.55\n",
      "2020-11-29    21.48\n",
      "2020-12-06    29.76\n",
      "2020-12-13    26.27\n",
      "2020-12-20    26.45\n",
      "2020-12-27    32.04\n",
      "2021-01-03    23.22\n",
      "Freq: W-SUN, Name: Distance, dtype: float64\n",
      "----------------------\n",
      "total milage: 1001.19\n",
      "Avg miles per week 19\n"
     ]
    }
   ],
   "source": [
    "df_data=df_2020.groupby([pd.Grouper(key='Date',freq='W')])['Distance'].sum()\n",
    "print('milage per week')\n",
    "print(df_data);\n",
    "print('----------------------')\n",
    "total_milage=df_2020['Distance'].values.sum()\n",
    "print('total milage:',total_milage)\n",
    "df_miles_weekly=df_data.resample('W').sum()\n",
    "print('Avg miles per week',round(df_miles_weekly.mean()))"
   ]
  },
  {
   "cell_type": "code",
   "execution_count": 9,
   "metadata": {},
   "outputs": [
    {
     "data": {
      "image/png": "[encoded data removed]",
      "text/plain": [
       "<Figure size 432x288 with 1 Axes>"
      ]
     },
     "metadata": {
      "needs_background": "light"
     },
     "output_type": "display_data"
    }
   ],
   "source": [
    "df_miles_monthly.plot.bar()\n",
    "plt.yticks(np.arange(0,150,step=10))\n",
    "\n",
    "plt.xlabel('Month')\n",
    "plt.ylabel('Sum of Milage')\n",
    "plt.title(\"Distance per month\")\n",
    "plt.grid();"
   ]
  },
  {
   "cell_type": "code",
   "execution_count": 10,
   "metadata": {},
   "outputs": [
    {
     "data": {
      "image/png": "[encoded data removed]",
      "text/plain": [
       "<Figure size 432x288 with 1 Axes>"
      ]
     },
     "metadata": {
      "needs_background": "light"
     },
     "output_type": "display_data"
    }
   ],
   "source": [
    "df_miles_weekly.plot(color='r')\n",
    "plt.yticks(np.arange(0,50,step=5))\n",
    "\n",
    "plt.xlabel('Month')\n",
    "plt.ylabel('Sum of Milage')\n",
    "plt.title(\"Distance per month\")\n",
    "plt.grid();\n"
   ]
  },
  {
   "cell_type": "code",
   "execution_count": 11,
   "metadata": {},
   "outputs": [
    {
     "data": {
      "image/png": "[encoded data removed]",
      "text/plain": [
       "<Figure size 432x288 with 1 Axes>"
      ]
     },
     "metadata": {
      "needs_background": "light"
     },
     "output_type": "display_data"
    }
   ],
   "source": [
    "df_miles_monthly.plot()\n",
    "plt.yticks(np.arange(30,160,step=10))\n",
    "plt.xlabel('Month')\n",
    "plt.ylabel('Sum of Milage')\n",
    "plt.title('Line plot of Distance and month')\n",
    "plt.grid();\n"
   ]
  },
  {
   "cell_type": "code",
   "execution_count": 12,
   "metadata": {},
   "outputs": [
    {
     "data": {
      "image/png": "[encoded data removed]",
      "text/plain": [
       "<Figure size 432x288 with 1 Axes>"
      ]
     },
     "metadata": {
      "needs_background": "light"
     },
     "output_type": "display_data"
    }
   ],
   "source": [
    "df_2020.Distance.plot.hist(bins=10,color='navy')\n",
    "plt.xlabel('Distance per run')\n",
    "plt.ylabel('Number of times ran')\n",
    "plt.title('Frequency of run distance');"
   ]
  },
  {
   "cell_type": "code",
   "execution_count": 13,
   "metadata": {},
   "outputs": [
    {
     "data": {
      "image/png": "[encoded data removed]",
      "text/plain": [
       "<Figure size 432x288 with 1 Axes>"
      ]
     },
     "metadata": {
      "needs_background": "light"
     },
     "output_type": "display_data"
    }
   ],
   "source": [
    "df_2020['Avg HR'].plot.hist(bins=10,color='orange');"
   ]
  },
  {
   "cell_type": "code",
   "execution_count": 14,
   "metadata": {},
   "outputs": [
    {
     "data": {
      "image/png": "[encoded data removed]",
      "text/plain": [
       "<Figure size 360x360 with 2 Axes>"
      ]
     },
     "metadata": {
      "needs_background": "light"
     },
     "output_type": "display_data"
    }
   ],
   "source": [
    "corr_matrix=df_2020[col_list].corr()\n",
    "fig,ax = plt.subplots(figsize=(5,5))\n",
    "ax = sns.heatmap(corr_matrix,\n",
    "                annot=True,\n",
    "                linewidths=0.5,\n",
    "                fmt='.2f',\n",
    "                cmap='viridis');"
   ]
  },
  {
   "cell_type": "code",
   "execution_count": 15,
   "metadata": {},
   "outputs": [
    {
     "data": {
      "image/png": "[encoded data removed]",
      "text/plain": [
       "<Figure size 720x432 with 1 Axes>"
      ]
     },
     "metadata": {
      "needs_background": "light"
     },
     "output_type": "display_data"
    }
   ],
   "source": [
    "plt.figure(figsize=(10,6))\n",
    "\n",
    "plt.scatter(df_2020['Avg HR'],\n",
    "            df_2020['Distance'], \n",
    "            c=\"blue\") \n",
    "\n",
    "plt.title(\"Distance as function of Age and Avg Heart Rate\")\n",
    "plt.xlabel(\"avg hr\")\n",
    "plt.xticks(np.arange(110,200,step=5))\n",
    "plt.ylabel(\"distance\");"
   ]
  },
  {
   "cell_type": "code",
   "execution_count": 16,
   "metadata": {
    "scrolled": false
   },
   "outputs": [
    {
     "data": {
      "image/png": "[encoded data removed]",
      "text/plain": [
       "<Figure size 720x432 with 1 Axes>"
      ]
     },
     "metadata": {
      "needs_background": "light"
     },
     "output_type": "display_data"
    }
   ],
   "source": [
    "plt.figure(figsize=(10,6))\n",
    "plt.scatter(df_2020['Max HR'],\n",
    "            df_2020['Distance'], \n",
    "            c=\"green\") \n",
    "\n",
    "plt.title(\"Distance as function of Age and Max Heart Rate\")\n",
    "plt.xlabel(\"Max HR\")\n",
    "plt.xticks(np.arange(130,210,step=5))\n",
    "\n",
    "plt.ylabel(\"distance\");"
   ]
  },
  {
   "cell_type": "code",
   "execution_count": 17,
   "metadata": {},
   "outputs": [
    {
     "data": {
      "image/png": "[encoded data removed]",
      "text/plain": [
       "<Figure size 720x432 with 1 Axes>"
      ]
     },
     "metadata": {
      "needs_background": "light"
     },
     "output_type": "display_data"
    }
   ],
   "source": [
    "plt.figure(figsize=(10,6))\n",
    "plt.scatter(df_2020['Avg Stride Length'],\n",
    "            df_2020['Distance'], \n",
    "            c=\"salmon\") \n",
    "\n",
    "plt.title(\"Miles per trip as function of avg stride length\")\n",
    "plt.xlabel(\"stride length\")\n",
    "plt.xticks(np.arange(0,2,step=.1))\n",
    "\n",
    "plt.ylabel(\"distance\");"
   ]
  },
  {
   "cell_type": "code",
   "execution_count": 18,
   "metadata": {},
   "outputs": [
    {
     "data": {
      "text/plain": [
       "Index(['Activity Type', 'Date', 'Favorite', 'Title', 'Distance', 'Calories',\n",
       "       'Time', 'Avg HR', 'Max HR', 'Avg Run Cadence', 'Max Run Cadence',\n",
       "       'Avg Pace', 'Best Pace', 'Elev Gain', 'Elev Loss', 'Avg Stride Length',\n",
       "       'Avg Vertical Ratio', 'Avg Vertical Oscillation',\n",
       "       'Training Stress Score®', 'Grit', 'Flow', 'Climb Time', 'Bottom Time',\n",
       "       'Min Temp', 'Surface Interval', 'Decompression', 'Best Lap Time',\n",
       "       'Number of Laps', 'Max Temp'],\n",
       "      dtype='object')"
      ]
     },
     "execution_count": 18,
     "metadata": {},
     "output_type": "execute_result"
    }
   ],
   "source": [
    "df_2020.columns"
   ]
  },
  {
   "cell_type": "code",
   "execution_count": 19,
   "metadata": {},
   "outputs": [
    {
     "data": {
      "text/html": [
       "<div>\n",
       "<style scoped>\n",
       "    .dataframe tbody tr th:only-of-type {\n",
       "        vertical-align: middle;\n",
       "    }\n",
       "\n",
       "    .dataframe tbody tr th {\n",
       "        vertical-align: top;\n",
       "    }\n",
       "\n",
       "    .dataframe thead th {\n",
       "        text-align: right;\n",
       "    }\n",
       "</style>\n",
       "<table border=\"1\" class=\"dataframe\">\n",
       "  <thead>\n",
       "    <tr style=\"text-align: right;\">\n",
       "      <th></th>\n",
       "      <th>Activity Type</th>\n",
       "      <th>Date</th>\n",
       "      <th>Favorite</th>\n",
       "      <th>Title</th>\n",
       "      <th>Distance</th>\n",
       "      <th>Calories</th>\n",
       "      <th>Time</th>\n",
       "      <th>Avg HR</th>\n",
       "      <th>Max HR</th>\n",
       "      <th>Avg Run Cadence</th>\n",
       "      <th>...</th>\n",
       "      <th>Grit</th>\n",
       "      <th>Flow</th>\n",
       "      <th>Climb Time</th>\n",
       "      <th>Bottom Time</th>\n",
       "      <th>Min Temp</th>\n",
       "      <th>Surface Interval</th>\n",
       "      <th>Decompression</th>\n",
       "      <th>Best Lap Time</th>\n",
       "      <th>Number of Laps</th>\n",
       "      <th>Max Temp</th>\n",
       "    </tr>\n",
       "  </thead>\n",
       "  <tbody>\n",
       "    <tr>\n",
       "      <th>0</th>\n",
       "      <td>Running</td>\n",
       "      <td>2020-12-31 23:29:00</td>\n",
       "      <td>False</td>\n",
       "      <td>Boston Running</td>\n",
       "      <td>0.50</td>\n",
       "      <td>49</td>\n",
       "      <td>03:36.5</td>\n",
       "      <td>154</td>\n",
       "      <td>172</td>\n",
       "      <td>175</td>\n",
       "      <td>...</td>\n",
       "      <td>0</td>\n",
       "      <td>0</td>\n",
       "      <td>03:36.5</td>\n",
       "      <td>0:00</td>\n",
       "      <td>0</td>\n",
       "      <td>0:00</td>\n",
       "      <td>No</td>\n",
       "      <td>03:36.5</td>\n",
       "      <td>1</td>\n",
       "      <td>0</td>\n",
       "    </tr>\n",
       "    <tr>\n",
       "      <th>1</th>\n",
       "      <td>Running</td>\n",
       "      <td>2020-12-31 17:41:00</td>\n",
       "      <td>False</td>\n",
       "      <td>Boston Running</td>\n",
       "      <td>8.38</td>\n",
       "      <td>942</td>\n",
       "      <td>1:00:31</td>\n",
       "      <td>174</td>\n",
       "      <td>192</td>\n",
       "      <td>179</td>\n",
       "      <td>...</td>\n",
       "      <td>0</td>\n",
       "      <td>0</td>\n",
       "      <td>1:00:31</td>\n",
       "      <td>0:00</td>\n",
       "      <td>0</td>\n",
       "      <td>0:00</td>\n",
       "      <td>No</td>\n",
       "      <td>02:49.3</td>\n",
       "      <td>9</td>\n",
       "      <td>0</td>\n",
       "    </tr>\n",
       "    <tr>\n",
       "      <th>2</th>\n",
       "      <td>Running</td>\n",
       "      <td>2020-12-30 17:28:00</td>\n",
       "      <td>False</td>\n",
       "      <td>Boston Running</td>\n",
       "      <td>7.58</td>\n",
       "      <td>851</td>\n",
       "      <td>0:54:38</td>\n",
       "      <td>174</td>\n",
       "      <td>191</td>\n",
       "      <td>179</td>\n",
       "      <td>...</td>\n",
       "      <td>0</td>\n",
       "      <td>0</td>\n",
       "      <td>54:38:00</td>\n",
       "      <td>0:00</td>\n",
       "      <td>0</td>\n",
       "      <td>0:00</td>\n",
       "      <td>No</td>\n",
       "      <td>04:04.8</td>\n",
       "      <td>8</td>\n",
       "      <td>0</td>\n",
       "    </tr>\n",
       "    <tr>\n",
       "      <th>3</th>\n",
       "      <td>Running</td>\n",
       "      <td>2020-12-29 16:37:00</td>\n",
       "      <td>False</td>\n",
       "      <td>Boston Running</td>\n",
       "      <td>6.76</td>\n",
       "      <td>778</td>\n",
       "      <td>0:51:05</td>\n",
       "      <td>173</td>\n",
       "      <td>186</td>\n",
       "      <td>177</td>\n",
       "      <td>...</td>\n",
       "      <td>0</td>\n",
       "      <td>0</td>\n",
       "      <td>51:05:00</td>\n",
       "      <td>0:00</td>\n",
       "      <td>0</td>\n",
       "      <td>0:00</td>\n",
       "      <td>No</td>\n",
       "      <td>06:08.4</td>\n",
       "      <td>7</td>\n",
       "      <td>0</td>\n",
       "    </tr>\n",
       "    <tr>\n",
       "      <th>4</th>\n",
       "      <td>Running</td>\n",
       "      <td>2020-12-27 17:22:00</td>\n",
       "      <td>False</td>\n",
       "      <td>Boston Running</td>\n",
       "      <td>6.34</td>\n",
       "      <td>747</td>\n",
       "      <td>0:47:32</td>\n",
       "      <td>176</td>\n",
       "      <td>184</td>\n",
       "      <td>178</td>\n",
       "      <td>...</td>\n",
       "      <td>0</td>\n",
       "      <td>0</td>\n",
       "      <td>47:32:00</td>\n",
       "      <td>0:00</td>\n",
       "      <td>0</td>\n",
       "      <td>0:00</td>\n",
       "      <td>No</td>\n",
       "      <td>02:31.3</td>\n",
       "      <td>7</td>\n",
       "      <td>0</td>\n",
       "    </tr>\n",
       "  </tbody>\n",
       "</table>\n",
       "<p>5 rows × 29 columns</p>\n",
       "</div>"
      ],
      "text/plain": [
       "  Activity Type                Date  Favorite           Title  Distance  \\\n",
       "0       Running 2020-12-31 23:29:00     False  Boston Running      0.50   \n",
       "1       Running 2020-12-31 17:41:00     False  Boston Running      8.38   \n",
       "2       Running 2020-12-30 17:28:00     False  Boston Running      7.58   \n",
       "3       Running 2020-12-29 16:37:00     False  Boston Running      6.76   \n",
       "4       Running 2020-12-27 17:22:00     False  Boston Running      6.34   \n",
       "\n",
       "  Calories     Time  Avg HR  Max HR  Avg Run Cadence  ...  Grit Flow  \\\n",
       "0       49  03:36.5     154     172              175  ...     0    0   \n",
       "1      942  1:00:31     174     192              179  ...     0    0   \n",
       "2      851  0:54:38     174     191              179  ...     0    0   \n",
       "3      778  0:51:05     173     186              177  ...     0    0   \n",
       "4      747  0:47:32     176     184              178  ...     0    0   \n",
       "\n",
       "  Climb Time  Bottom Time  Min Temp  Surface Interval  Decompression  \\\n",
       "0    03:36.5         0:00         0              0:00             No   \n",
       "1    1:00:31         0:00         0              0:00             No   \n",
       "2   54:38:00         0:00         0              0:00             No   \n",
       "3   51:05:00         0:00         0              0:00             No   \n",
       "4   47:32:00         0:00         0              0:00             No   \n",
       "\n",
       "   Best Lap Time  Number of Laps  Max Temp  \n",
       "0        03:36.5               1         0  \n",
       "1        02:49.3               9         0  \n",
       "2        04:04.8               8         0  \n",
       "3        06:08.4               7         0  \n",
       "4        02:31.3               7         0  \n",
       "\n",
       "[5 rows x 29 columns]"
      ]
     },
     "execution_count": 19,
     "metadata": {},
     "output_type": "execute_result"
    }
   ],
   "source": [
    "df_2020.head()"
   ]
  },
  {
   "cell_type": "code",
   "execution_count": 20,
   "metadata": {},
   "outputs": [],
   "source": [
    "\n",
    "df_train=pd.DataFrame(df_2020[col_list])"
   ]
  },
  {
   "cell_type": "code",
   "execution_count": 21,
   "metadata": {},
   "outputs": [
    {
     "data": {
      "text/plain": [
       "RandomForestRegressor(bootstrap=True, ccp_alpha=0.0, criterion='mse',\n",
       "                      max_depth=None, max_features='auto', max_leaf_nodes=None,\n",
       "                      max_samples=None, min_impurity_decrease=0.0,\n",
       "                      min_impurity_split=None, min_samples_leaf=1,\n",
       "                      min_samples_split=2, min_weight_fraction_leaf=0.0,\n",
       "                      n_estimators=100, n_jobs=-1, oob_score=False,\n",
       "                      random_state=None, verbose=0, warm_start=False)"
      ]
     },
     "execution_count": 21,
     "metadata": {},
     "output_type": "execute_result"
    }
   ],
   "source": [
    "#RandomForestRegressor\n",
    "np.random.seed(11)\n",
    "#split into dependent and independent variables\n",
    "X= df_train.drop('Distance',axis=1)\n",
    "y= df_train['Distance']\n",
    "\n",
    "\n",
    "X_train, X_test, y_train, y_test = train_test_split(X,y,test_size=0.2)\n",
    "random_forest_model = RandomForestRegressor(n_jobs=-1)\n",
    "                                                       \n",
    "# Fit the model\n",
    "random_forest_model.fit(X_train,y_train)"
   ]
  },
  {
   "cell_type": "code",
   "execution_count": 22,
   "metadata": {},
   "outputs": [
    {
     "data": {
      "text/plain": [
       "0.8850939624867872"
      ]
     },
     "execution_count": 22,
     "metadata": {},
     "output_type": "execute_result"
    }
   ],
   "source": [
    "random_forest_model.score(X_train,y_train)"
   ]
  },
  {
   "cell_type": "code",
   "execution_count": 23,
   "metadata": {},
   "outputs": [
    {
     "data": {
      "text/plain": [
       "1.053189743589743"
      ]
     },
     "execution_count": 23,
     "metadata": {},
     "output_type": "execute_result"
    }
   ],
   "source": [
    "y_preds= random_forest_model.predict(X_test)\n",
    "mae = mean_absolute_error(y_test, y_preds)\n",
    "mae"
   ]
  },
  {
   "cell_type": "code",
   "execution_count": 24,
   "metadata": {},
   "outputs": [],
   "source": [
    "def show_scores(model):\n",
    "    train_preds = model.predict(X_train)\n",
    "    val_preds = model.predict(X_test)\n",
    "    \n",
    "    scores = {'training data mae': mean_absolute_error(y_train, train_preds),\n",
    "             'valid mae': mean_absolute_error(y_test,val_preds),\n",
    "             'train mean squared error': mean_squared_error(y_test,y_preds),\n",
    "             'training R^2': r2_score(y_train,train_preds),\n",
    "             'valid R^2': r2_score(y_test,val_preds)}\n",
    "    return scores"
   ]
  },
  {
   "cell_type": "code",
   "execution_count": 25,
   "metadata": {},
   "outputs": [
    {
     "data": {
      "text/plain": [
       "{'training data mae': 0.44835961538461516,\n",
       " 'valid mae': 1.053189743589743,\n",
       " 'train mean squared error': 2.3423528369230726,\n",
       " 'training R^2': 0.8850939624867872,\n",
       " 'valid R^2': 0.20958965590408107}"
      ]
     },
     "execution_count": 25,
     "metadata": {},
     "output_type": "execute_result"
    }
   ],
   "source": [
    "show_scores(random_forest_model)"
   ]
  },
  {
   "cell_type": "code",
   "execution_count": 26,
   "metadata": {},
   "outputs": [
    {
     "data": {
      "text/plain": [
       "4.868461538461538"
      ]
     },
     "execution_count": 26,
     "metadata": {},
     "output_type": "execute_result"
    }
   ],
   "source": [
    "y_test_mean = np.full(len(y_test), y_test.mean())\n",
    "y_test.mean()"
   ]
  },
  {
   "cell_type": "code",
   "execution_count": 27,
   "metadata": {},
   "outputs": [
    {
     "data": {
      "text/html": [
       "<div>\n",
       "<style scoped>\n",
       "    .dataframe tbody tr th:only-of-type {\n",
       "        vertical-align: middle;\n",
       "    }\n",
       "\n",
       "    .dataframe tbody tr th {\n",
       "        vertical-align: top;\n",
       "    }\n",
       "\n",
       "    .dataframe thead th {\n",
       "        text-align: right;\n",
       "    }\n",
       "</style>\n",
       "<table border=\"1\" class=\"dataframe\">\n",
       "  <thead>\n",
       "    <tr style=\"text-align: right;\">\n",
       "      <th></th>\n",
       "      <th>actual values</th>\n",
       "      <th>predicted values</th>\n",
       "      <th>diff</th>\n",
       "    </tr>\n",
       "  </thead>\n",
       "  <tbody>\n",
       "    <tr>\n",
       "      <th>173</th>\n",
       "      <td>4.32</td>\n",
       "      <td>4.2122</td>\n",
       "      <td>-0.1078</td>\n",
       "    </tr>\n",
       "    <tr>\n",
       "      <th>61</th>\n",
       "      <td>6.01</td>\n",
       "      <td>7.8706</td>\n",
       "      <td>1.8606</td>\n",
       "    </tr>\n",
       "    <tr>\n",
       "      <th>54</th>\n",
       "      <td>6.01</td>\n",
       "      <td>6.1419</td>\n",
       "      <td>0.1319</td>\n",
       "    </tr>\n",
       "    <tr>\n",
       "      <th>128</th>\n",
       "      <td>4.02</td>\n",
       "      <td>5.3194</td>\n",
       "      <td>1.2994</td>\n",
       "    </tr>\n",
       "    <tr>\n",
       "      <th>88</th>\n",
       "      <td>5.15</td>\n",
       "      <td>4.7866</td>\n",
       "      <td>-0.3634</td>\n",
       "    </tr>\n",
       "  </tbody>\n",
       "</table>\n",
       "</div>"
      ],
      "text/plain": [
       "     actual values  predicted values    diff\n",
       "173           4.32            4.2122 -0.1078\n",
       "61            6.01            7.8706  1.8606\n",
       "54            6.01            6.1419  0.1319\n",
       "128           4.02            5.3194  1.2994\n",
       "88            5.15            4.7866 -0.3634"
      ]
     },
     "execution_count": 27,
     "metadata": {},
     "output_type": "execute_result"
    }
   ],
   "source": [
    "df= pd.DataFrame(data={'actual values':y_test,\n",
    "                      'predicted values': y_preds})\n",
    "df['diff']=df['predicted values']-df['actual values']\n",
    "df.head()"
   ]
  },
  {
   "cell_type": "code",
   "execution_count": 28,
   "metadata": {},
   "outputs": [
    {
     "data": {
      "text/plain": [
       "0.24251424668760468"
      ]
     },
     "execution_count": 28,
     "metadata": {},
     "output_type": "execute_result"
    }
   ],
   "source": [
    "#Ridge model\n",
    "np.random.seed(11)\n",
    "\n",
    "X= df_train.drop('Distance',axis=1)\n",
    "y= df_train['Distance']\n",
    "\n",
    "\n",
    "X_train, X_test, y_train, y_test = train_test_split(X,y,test_size=0.2)\n",
    "ridge_model = Ridge()\n",
    "                                                       \n",
    "# Fit the model\n",
    "ridge_model.fit(X_train,y_train)\n",
    "ridge_model.score(X_test,y_test)"
   ]
  },
  {
   "cell_type": "code",
   "execution_count": 29,
   "metadata": {},
   "outputs": [
    {
     "data": {
      "text/plain": [
       "{'training data mae': 1.1617160405795304,\n",
       " 'valid mae': 1.0701254042265747,\n",
       " 'train mean squared error': 2.3423528369230726,\n",
       " 'training R^2': 0.24638296212189348,\n",
       " 'valid R^2': 0.24251424668760468}"
      ]
     },
     "execution_count": 29,
     "metadata": {},
     "output_type": "execute_result"
    }
   ],
   "source": [
    "show_scores(ridge_model)"
   ]
  },
  {
   "cell_type": "code",
   "execution_count": 30,
   "metadata": {},
   "outputs": [
    {
     "data": {
      "text/plain": [
       "1.053189743589743"
      ]
     },
     "execution_count": 30,
     "metadata": {},
     "output_type": "execute_result"
    }
   ],
   "source": [
    "mean_absolute_error(y_test, y_preds)"
   ]
  },
  {
   "cell_type": "code",
   "execution_count": 31,
   "metadata": {},
   "outputs": [
    {
     "data": {
      "text/plain": [
       "1.0701254042265747"
      ]
     },
     "execution_count": 31,
     "metadata": {},
     "output_type": "execute_result"
    }
   ],
   "source": [
    "y_preds= ridge_model.predict(X_test)\n",
    "mae = mean_absolute_error(y_test, y_preds)\n",
    "mae"
   ]
  },
  {
   "cell_type": "code",
   "execution_count": 33,
   "metadata": {},
   "outputs": [
    {
     "data": {
      "text/html": [
       "<div>\n",
       "<style scoped>\n",
       "    .dataframe tbody tr th:only-of-type {\n",
       "        vertical-align: middle;\n",
       "    }\n",
       "\n",
       "    .dataframe tbody tr th {\n",
       "        vertical-align: top;\n",
       "    }\n",
       "\n",
       "    .dataframe thead th {\n",
       "        text-align: right;\n",
       "    }\n",
       "</style>\n",
       "<table border=\"1\" class=\"dataframe\">\n",
       "  <thead>\n",
       "    <tr style=\"text-align: right;\">\n",
       "      <th></th>\n",
       "      <th>actual values</th>\n",
       "      <th>predicted values</th>\n",
       "      <th>diff</th>\n",
       "    </tr>\n",
       "  </thead>\n",
       "  <tbody>\n",
       "    <tr>\n",
       "      <th>173</th>\n",
       "      <td>4.32</td>\n",
       "      <td>4.091054</td>\n",
       "      <td>-0.228946</td>\n",
       "    </tr>\n",
       "    <tr>\n",
       "      <th>61</th>\n",
       "      <td>6.01</td>\n",
       "      <td>6.289370</td>\n",
       "      <td>0.279370</td>\n",
       "    </tr>\n",
       "    <tr>\n",
       "      <th>54</th>\n",
       "      <td>6.01</td>\n",
       "      <td>6.473085</td>\n",
       "      <td>0.463085</td>\n",
       "    </tr>\n",
       "    <tr>\n",
       "      <th>128</th>\n",
       "      <td>4.02</td>\n",
       "      <td>5.154695</td>\n",
       "      <td>1.134695</td>\n",
       "    </tr>\n",
       "    <tr>\n",
       "      <th>88</th>\n",
       "      <td>5.15</td>\n",
       "      <td>4.711886</td>\n",
       "      <td>-0.438114</td>\n",
       "    </tr>\n",
       "    <tr>\n",
       "      <th>16</th>\n",
       "      <td>4.46</td>\n",
       "      <td>6.088248</td>\n",
       "      <td>1.628248</td>\n",
       "    </tr>\n",
       "    <tr>\n",
       "      <th>22</th>\n",
       "      <td>6.21</td>\n",
       "      <td>6.650910</td>\n",
       "      <td>0.440910</td>\n",
       "    </tr>\n",
       "    <tr>\n",
       "      <th>111</th>\n",
       "      <td>1.01</td>\n",
       "      <td>5.713020</td>\n",
       "      <td>4.703020</td>\n",
       "    </tr>\n",
       "    <tr>\n",
       "      <th>169</th>\n",
       "      <td>6.00</td>\n",
       "      <td>4.532561</td>\n",
       "      <td>-1.467439</td>\n",
       "    </tr>\n",
       "    <tr>\n",
       "      <th>33</th>\n",
       "      <td>6.11</td>\n",
       "      <td>5.642804</td>\n",
       "      <td>-0.467196</td>\n",
       "    </tr>\n",
       "  </tbody>\n",
       "</table>\n",
       "</div>"
      ],
      "text/plain": [
       "     actual values  predicted values      diff\n",
       "173           4.32          4.091054 -0.228946\n",
       "61            6.01          6.289370  0.279370\n",
       "54            6.01          6.473085  0.463085\n",
       "128           4.02          5.154695  1.134695\n",
       "88            5.15          4.711886 -0.438114\n",
       "16            4.46          6.088248  1.628248\n",
       "22            6.21          6.650910  0.440910\n",
       "111           1.01          5.713020  4.703020\n",
       "169           6.00          4.532561 -1.467439\n",
       "33            6.11          5.642804 -0.467196"
      ]
     },
     "execution_count": 33,
     "metadata": {},
     "output_type": "execute_result"
    }
   ],
   "source": [
    "df= pd.DataFrame(data={'actual values':y_test,\n",
    "                      'predicted values': y_preds})\n",
    "df['diff']=df['predicted values']-df['actual values']\n",
    "df.head(10)"
   ]
  },
  {
   "cell_type": "code",
   "execution_count": null,
   "metadata": {},
   "outputs": [],
   "source": []
  }
 ],
 "metadata": {
  "kernelspec": {
   "display_name": "Python 3",
   "language": "python",
   "name": "python3"
  },
  "language_info": {
   "codemirror_mode": {
    "name": "ipython",
    "version": 3
   },
   "file_extension": ".py",
   "mimetype": "text/x-python",
   "name": "python",
   "nbconvert_exporter": "python",
   "pygments_lexer": "ipython3",
   "version": "3.7.9"
  }
 },
 "nbformat": 4,
 "nbformat_minor": 4
}
